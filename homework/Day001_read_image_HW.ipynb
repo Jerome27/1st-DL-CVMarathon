{
 "cells": [
  {
   "cell_type": "markdown",
   "metadata": {},
   "source": [
    "# 作業\n",
    "\n",
    "思考一下我們前面有提到圖片是矩陣，但維度可能會不一樣\n",
    "例如灰階圖只有兩個維度，RGB 彩圖則有 3 個維度\n",
    "\n",
    "假如今天我們把 RGB 3 個維度拆開來看會有甚麼不同的效果呢？"
   ]
  },
  {
   "cell_type": "code",
   "execution_count": null,
   "metadata": {},
   "outputs": [],
   "source": [
    "import cv2\n",
    "\n",
    "img_path = 'homework\\\\lena.png'\n",
    "\n",
    "img = cv2.imread(img_path, cv2.IMREAD_UNCHANGED)\n",
    "\n",
    "# 0:blue，1:green，2:red\n",
    "blue_channel = img[:,:,0]\n",
    "cv2.imshow('blue', blue_channel)\n",
    "\n",
    "green_channel = img[:,:,1]\n",
    "cv2.imshow('green', green_channel)\n",
    "\n",
    "red_channel = img[:,:,2]\n",
    "cv2.imshow('red', red_channel)\n",
    "\n",
    "cv2.waitKey(0)\n",
    "cv2.destroyAllWindows()\n"
   ]
  }
 ],
 "metadata": {
  "kernelspec": {
   "display_name": "Python 3",
   "language": "python",
   "name": "python3"
  },
  "language_info": {
   "codemirror_mode": {
    "name": "ipython",
    "version": 3
   },
   "file_extension": ".py",
   "mimetype": "text/x-python",
   "name": "python",
   "nbconvert_exporter": "python",
   "pygments_lexer": "ipython3",
   "version": "3.6.8"
  }
 },
 "nbformat": 4,
 "nbformat_minor": 2
}